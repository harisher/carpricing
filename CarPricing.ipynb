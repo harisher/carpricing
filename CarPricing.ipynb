{
 "cells": [
  {
   "cell_type": "code",
   "execution_count": 1,
   "metadata": {},
   "outputs": [],
   "source": [
    "import warnings\n",
    "warnings.filterwarnings(\"ignore\")"
   ]
  },
  {
   "cell_type": "code",
   "execution_count": 2,
   "metadata": {},
   "outputs": [],
   "source": [
    "import seaborn as sns\n",
    "import matplotlib.pyplot as plt"
   ]
  },
  {
   "cell_type": "code",
   "execution_count": 3,
   "metadata": {},
   "outputs": [],
   "source": [
    "# Importing RFE and LinearRegression\n",
    "from sklearn.feature_selection import RFE\n",
    "from sklearn.linear_model import LinearRegression\n",
    "from sklearn.metrics import r2_score"
   ]
  },
  {
   "cell_type": "code",
   "execution_count": 4,
   "metadata": {},
   "outputs": [],
   "source": [
    "# Import the required libraries\n",
    "import pandas as pd\n",
    "import numpy as np\n",
    "import seaborn as sns"
   ]
  },
  {
   "cell_type": "code",
   "execution_count": 5,
   "metadata": {},
   "outputs": [],
   "source": [
    "# Read file\n",
    "cars = pd.read_csv('CarPrice_Assignment.csv')"
   ]
  },
  {
   "cell_type": "code",
   "execution_count": 6,
   "metadata": {},
   "outputs": [
    {
     "name": "stdout",
     "output_type": "stream",
     "text": [
      "<class 'pandas.core.frame.DataFrame'>\n",
      "RangeIndex: 205 entries, 0 to 204\n",
      "Data columns (total 26 columns):\n",
      "car_ID              205 non-null int64\n",
      "symboling           205 non-null int64\n",
      "CarName             205 non-null object\n",
      "fueltype            205 non-null object\n",
      "aspiration          205 non-null object\n",
      "doornumber          205 non-null object\n",
      "carbody             205 non-null object\n",
      "drivewheel          205 non-null object\n",
      "enginelocation      205 non-null object\n",
      "wheelbase           205 non-null float64\n",
      "carlength           205 non-null float64\n",
      "carwidth            205 non-null float64\n",
      "carheight           205 non-null float64\n",
      "curbweight          205 non-null int64\n",
      "enginetype          205 non-null object\n",
      "cylindernumber      205 non-null object\n",
      "enginesize          205 non-null int64\n",
      "fuelsystem          205 non-null object\n",
      "boreratio           205 non-null float64\n",
      "stroke              205 non-null float64\n",
      "compressionratio    205 non-null float64\n",
      "horsepower          205 non-null int64\n",
      "peakrpm             205 non-null int64\n",
      "citympg             205 non-null int64\n",
      "highwaympg          205 non-null int64\n",
      "price               205 non-null float64\n",
      "dtypes: float64(8), int64(8), object(10)\n",
      "memory usage: 41.7+ KB\n"
     ]
    }
   ],
   "source": [
    "# Get information on columns and types\n",
    "cars.info()"
   ]
  },
  {
   "cell_type": "code",
   "execution_count": 7,
   "metadata": {},
   "outputs": [],
   "source": [
    "# Retain the first part of the field in car name as given in the question\n",
    "cars['CarName'] = cars['CarName'].str.split(' ').str[0]"
   ]
  },
  {
   "cell_type": "code",
   "execution_count": 8,
   "metadata": {},
   "outputs": [],
   "source": [
    "# Correct the values in car name\n",
    "cars.replace('maxda','mazda', inplace = True)\n",
    "cars.replace('Nissan','nissan', inplace = True)\n",
    "cars.replace('porcshce','porsche', inplace = True)\n",
    "cars.replace('toyouta','toyota', inplace = True)\n",
    "cars.replace('vokswagen','volkswagen', inplace = True)\n",
    "cars.replace('vw','volkswagen', inplace = True)"
   ]
  },
  {
   "cell_type": "code",
   "execution_count": 9,
   "metadata": {},
   "outputs": [],
   "source": [
    "# Create a new column to indicate premium and non-premium cars \n",
    "# Preimum cars are cars belonging to brands: Alfa-Romeo, Audi, BMW, Buick, Mercury, Porsche, Jaguar, Volvo\n",
    "cars['premium'] = cars['CarName'].apply(lambda x: 1 if x in ['alfa-romero', 'audi', 'bmw', 'buick', 'mercury', \n",
    "                                                                       'porsche', 'jaguar', 'volvo'] else 0)"
   ]
  },
  {
   "cell_type": "code",
   "execution_count": 10,
   "metadata": {},
   "outputs": [
    {
     "data": {
      "text/plain": [
       "array([1, 0], dtype=int64)"
      ]
     },
     "execution_count": 10,
     "metadata": {},
     "output_type": "execute_result"
    }
   ],
   "source": [
    "cars['premium'].unique()"
   ]
  },
  {
   "cell_type": "code",
   "execution_count": 11,
   "metadata": {},
   "outputs": [],
   "source": [
    "# Drop car name as the premium column will be used for analysis\n",
    "cars.drop(['CarName'],axis=1,inplace=True)"
   ]
  },
  {
   "cell_type": "code",
   "execution_count": 12,
   "metadata": {},
   "outputs": [
    {
     "data": {
      "text/html": [
       "<div>\n",
       "<style scoped>\n",
       "    .dataframe tbody tr th:only-of-type {\n",
       "        vertical-align: middle;\n",
       "    }\n",
       "\n",
       "    .dataframe tbody tr th {\n",
       "        vertical-align: top;\n",
       "    }\n",
       "\n",
       "    .dataframe thead th {\n",
       "        text-align: right;\n",
       "    }\n",
       "</style>\n",
       "<table border=\"1\" class=\"dataframe\">\n",
       "  <thead>\n",
       "    <tr style=\"text-align: right;\">\n",
       "      <th></th>\n",
       "      <th>car_ID</th>\n",
       "      <th>symboling</th>\n",
       "      <th>wheelbase</th>\n",
       "      <th>carlength</th>\n",
       "      <th>carwidth</th>\n",
       "      <th>carheight</th>\n",
       "      <th>curbweight</th>\n",
       "      <th>enginesize</th>\n",
       "      <th>boreratio</th>\n",
       "      <th>stroke</th>\n",
       "      <th>compressionratio</th>\n",
       "      <th>horsepower</th>\n",
       "      <th>peakrpm</th>\n",
       "      <th>citympg</th>\n",
       "      <th>highwaympg</th>\n",
       "      <th>price</th>\n",
       "      <th>premium</th>\n",
       "    </tr>\n",
       "  </thead>\n",
       "  <tbody>\n",
       "    <tr>\n",
       "      <th>count</th>\n",
       "      <td>205.000000</td>\n",
       "      <td>205.000000</td>\n",
       "      <td>205.000000</td>\n",
       "      <td>205.000000</td>\n",
       "      <td>205.000000</td>\n",
       "      <td>205.000000</td>\n",
       "      <td>205.000000</td>\n",
       "      <td>205.000000</td>\n",
       "      <td>205.000000</td>\n",
       "      <td>205.000000</td>\n",
       "      <td>205.000000</td>\n",
       "      <td>205.000000</td>\n",
       "      <td>205.000000</td>\n",
       "      <td>205.000000</td>\n",
       "      <td>205.000000</td>\n",
       "      <td>205.000000</td>\n",
       "      <td>205.000000</td>\n",
       "    </tr>\n",
       "    <tr>\n",
       "      <th>mean</th>\n",
       "      <td>103.000000</td>\n",
       "      <td>0.834146</td>\n",
       "      <td>98.756585</td>\n",
       "      <td>174.049268</td>\n",
       "      <td>65.907805</td>\n",
       "      <td>53.724878</td>\n",
       "      <td>2555.565854</td>\n",
       "      <td>126.907317</td>\n",
       "      <td>3.329756</td>\n",
       "      <td>3.255415</td>\n",
       "      <td>10.142537</td>\n",
       "      <td>104.117073</td>\n",
       "      <td>5125.121951</td>\n",
       "      <td>25.219512</td>\n",
       "      <td>30.751220</td>\n",
       "      <td>13276.710571</td>\n",
       "      <td>0.224390</td>\n",
       "    </tr>\n",
       "    <tr>\n",
       "      <th>std</th>\n",
       "      <td>59.322565</td>\n",
       "      <td>1.245307</td>\n",
       "      <td>6.021776</td>\n",
       "      <td>12.337289</td>\n",
       "      <td>2.145204</td>\n",
       "      <td>2.443522</td>\n",
       "      <td>520.680204</td>\n",
       "      <td>41.642693</td>\n",
       "      <td>0.270844</td>\n",
       "      <td>0.313597</td>\n",
       "      <td>3.972040</td>\n",
       "      <td>39.544167</td>\n",
       "      <td>476.985643</td>\n",
       "      <td>6.542142</td>\n",
       "      <td>6.886443</td>\n",
       "      <td>7988.852332</td>\n",
       "      <td>0.418201</td>\n",
       "    </tr>\n",
       "    <tr>\n",
       "      <th>min</th>\n",
       "      <td>1.000000</td>\n",
       "      <td>-2.000000</td>\n",
       "      <td>86.600000</td>\n",
       "      <td>141.100000</td>\n",
       "      <td>60.300000</td>\n",
       "      <td>47.800000</td>\n",
       "      <td>1488.000000</td>\n",
       "      <td>61.000000</td>\n",
       "      <td>2.540000</td>\n",
       "      <td>2.070000</td>\n",
       "      <td>7.000000</td>\n",
       "      <td>48.000000</td>\n",
       "      <td>4150.000000</td>\n",
       "      <td>13.000000</td>\n",
       "      <td>16.000000</td>\n",
       "      <td>5118.000000</td>\n",
       "      <td>0.000000</td>\n",
       "    </tr>\n",
       "    <tr>\n",
       "      <th>25%</th>\n",
       "      <td>52.000000</td>\n",
       "      <td>0.000000</td>\n",
       "      <td>94.500000</td>\n",
       "      <td>166.300000</td>\n",
       "      <td>64.100000</td>\n",
       "      <td>52.000000</td>\n",
       "      <td>2145.000000</td>\n",
       "      <td>97.000000</td>\n",
       "      <td>3.150000</td>\n",
       "      <td>3.110000</td>\n",
       "      <td>8.600000</td>\n",
       "      <td>70.000000</td>\n",
       "      <td>4800.000000</td>\n",
       "      <td>19.000000</td>\n",
       "      <td>25.000000</td>\n",
       "      <td>7788.000000</td>\n",
       "      <td>0.000000</td>\n",
       "    </tr>\n",
       "    <tr>\n",
       "      <th>50%</th>\n",
       "      <td>103.000000</td>\n",
       "      <td>1.000000</td>\n",
       "      <td>97.000000</td>\n",
       "      <td>173.200000</td>\n",
       "      <td>65.500000</td>\n",
       "      <td>54.100000</td>\n",
       "      <td>2414.000000</td>\n",
       "      <td>120.000000</td>\n",
       "      <td>3.310000</td>\n",
       "      <td>3.290000</td>\n",
       "      <td>9.000000</td>\n",
       "      <td>95.000000</td>\n",
       "      <td>5200.000000</td>\n",
       "      <td>24.000000</td>\n",
       "      <td>30.000000</td>\n",
       "      <td>10295.000000</td>\n",
       "      <td>0.000000</td>\n",
       "    </tr>\n",
       "    <tr>\n",
       "      <th>75%</th>\n",
       "      <td>154.000000</td>\n",
       "      <td>2.000000</td>\n",
       "      <td>102.400000</td>\n",
       "      <td>183.100000</td>\n",
       "      <td>66.900000</td>\n",
       "      <td>55.500000</td>\n",
       "      <td>2935.000000</td>\n",
       "      <td>141.000000</td>\n",
       "      <td>3.580000</td>\n",
       "      <td>3.410000</td>\n",
       "      <td>9.400000</td>\n",
       "      <td>116.000000</td>\n",
       "      <td>5500.000000</td>\n",
       "      <td>30.000000</td>\n",
       "      <td>34.000000</td>\n",
       "      <td>16503.000000</td>\n",
       "      <td>0.000000</td>\n",
       "    </tr>\n",
       "    <tr>\n",
       "      <th>max</th>\n",
       "      <td>205.000000</td>\n",
       "      <td>3.000000</td>\n",
       "      <td>120.900000</td>\n",
       "      <td>208.100000</td>\n",
       "      <td>72.300000</td>\n",
       "      <td>59.800000</td>\n",
       "      <td>4066.000000</td>\n",
       "      <td>326.000000</td>\n",
       "      <td>3.940000</td>\n",
       "      <td>4.170000</td>\n",
       "      <td>23.000000</td>\n",
       "      <td>288.000000</td>\n",
       "      <td>6600.000000</td>\n",
       "      <td>49.000000</td>\n",
       "      <td>54.000000</td>\n",
       "      <td>45400.000000</td>\n",
       "      <td>1.000000</td>\n",
       "    </tr>\n",
       "  </tbody>\n",
       "</table>\n",
       "</div>"
      ],
      "text/plain": [
       "           car_ID   symboling   wheelbase   carlength    carwidth   carheight  \\\n",
       "count  205.000000  205.000000  205.000000  205.000000  205.000000  205.000000   \n",
       "mean   103.000000    0.834146   98.756585  174.049268   65.907805   53.724878   \n",
       "std     59.322565    1.245307    6.021776   12.337289    2.145204    2.443522   \n",
       "min      1.000000   -2.000000   86.600000  141.100000   60.300000   47.800000   \n",
       "25%     52.000000    0.000000   94.500000  166.300000   64.100000   52.000000   \n",
       "50%    103.000000    1.000000   97.000000  173.200000   65.500000   54.100000   \n",
       "75%    154.000000    2.000000  102.400000  183.100000   66.900000   55.500000   \n",
       "max    205.000000    3.000000  120.900000  208.100000   72.300000   59.800000   \n",
       "\n",
       "        curbweight  enginesize   boreratio      stroke  compressionratio  \\\n",
       "count   205.000000  205.000000  205.000000  205.000000        205.000000   \n",
       "mean   2555.565854  126.907317    3.329756    3.255415         10.142537   \n",
       "std     520.680204   41.642693    0.270844    0.313597          3.972040   \n",
       "min    1488.000000   61.000000    2.540000    2.070000          7.000000   \n",
       "25%    2145.000000   97.000000    3.150000    3.110000          8.600000   \n",
       "50%    2414.000000  120.000000    3.310000    3.290000          9.000000   \n",
       "75%    2935.000000  141.000000    3.580000    3.410000          9.400000   \n",
       "max    4066.000000  326.000000    3.940000    4.170000         23.000000   \n",
       "\n",
       "       horsepower      peakrpm     citympg  highwaympg         price  \\\n",
       "count  205.000000   205.000000  205.000000  205.000000    205.000000   \n",
       "mean   104.117073  5125.121951   25.219512   30.751220  13276.710571   \n",
       "std     39.544167   476.985643    6.542142    6.886443   7988.852332   \n",
       "min     48.000000  4150.000000   13.000000   16.000000   5118.000000   \n",
       "25%     70.000000  4800.000000   19.000000   25.000000   7788.000000   \n",
       "50%     95.000000  5200.000000   24.000000   30.000000  10295.000000   \n",
       "75%    116.000000  5500.000000   30.000000   34.000000  16503.000000   \n",
       "max    288.000000  6600.000000   49.000000   54.000000  45400.000000   \n",
       "\n",
       "          premium  \n",
       "count  205.000000  \n",
       "mean     0.224390  \n",
       "std      0.418201  \n",
       "min      0.000000  \n",
       "25%      0.000000  \n",
       "50%      0.000000  \n",
       "75%      0.000000  \n",
       "max      1.000000  "
      ]
     },
     "execution_count": 12,
     "metadata": {},
     "output_type": "execute_result"
    }
   ],
   "source": [
    "cars.describe()"
   ]
  },
  {
   "cell_type": "code",
   "execution_count": 13,
   "metadata": {},
   "outputs": [],
   "source": [
    "#Q1 = cars.quantile(0.25)\n",
    "#Q3 = cars.quantile(0.75)\n",
    "#IQR = Q3 - Q1\n",
    "#cars = cars[~((cars < (Q1 - 1.5 * IQR)) |(cars > (Q3 + 1.5 * IQR))).any(axis=1)]\n",
    "#print(cars.describe())"
   ]
  },
  {
   "cell_type": "code",
   "execution_count": 14,
   "metadata": {},
   "outputs": [
    {
     "data": {
      "image/png": "[encoded data removed]",
      "text/plain": [
       "<Figure size 1440x1440 with 14 Axes>"
      ]
     },
     "metadata": {},
     "output_type": "display_data"
    }
   ],
   "source": [
    "# Analysis on continuous or quantitative variables\n",
    "fig = plt.figure(figsize = (20,20))\n",
    "\n",
    "def cont_plots(plot_row,plot_col,plot_index, df, column):\n",
    "    ax = fig.add_subplot(plot_row,plot_col,plot_index)\n",
    "    plt.boxplot(df[column])\n",
    "    ax.set_xlabel(column)\n",
    " \n",
    "cont_plots(5,3,1,cars,'wheelbase')\n",
    "cont_plots(5,3,2,cars,'carlength')\n",
    "cont_plots(5,3,3,cars,'carwidth')\n",
    "cont_plots(5,3,4,cars,'carheight')\n",
    "cont_plots(5,3,5,cars,'curbweight')\n",
    "cont_plots(5,3,6,cars,'enginesize')\n",
    "cont_plots(5,3,7,cars,'boreratio')\n",
    "cont_plots(5,3,8,cars,'stroke')\n",
    "cont_plots(5,3,9,cars,'compressionratio')\n",
    "cont_plots(5,3,10,cars,'horsepower')\n",
    "cont_plots(5,3,11,cars,'peakrpm')\n",
    "cont_plots(5,3,12,cars,'citympg')\n",
    "cont_plots(5,3,13,cars,'highwaympg')\n",
    "cont_plots(5,3,14,cars,'price')"
   ]
  },
  {
   "cell_type": "code",
   "execution_count": 15,
   "metadata": {},
   "outputs": [],
   "source": [
    "import matplotlib.pyplot as plt\n",
    "import seaborn as sns\n",
    "%matplotlib inline"
   ]
  },
  {
   "cell_type": "code",
   "execution_count": 16,
   "metadata": {},
   "outputs": [
    {
     "data": {
      "text/plain": [
       "<seaborn.axisgrid.PairGrid at 0x18b7ef0c2b0>"
      ]
     },
     "execution_count": 16,
     "metadata": {},
     "output_type": "execute_result"
    },
    {
     "data": {
      "image/png": "[encoded data removed]",
      "text/plain": [
       "<Figure size 2520x180 with 14 Axes>"
      ]
     },
     "metadata": {},
     "output_type": "display_data"
    }
   ],
   "source": [
    "# Let's plot a pair plot of all variables in our dataframe\n",
    "sns.pairplot(cars, x_vars = ['wheelbase', 'carlength', 'carwidth', 'carheight', 'curbweight',\n",
    "       'enginesize', 'boreratio', 'stroke', 'compressionratio', 'horsepower',\n",
    "       'peakrpm', 'citympg', 'highwaympg', 'premium'], y_vars='price', kind = 'scatter')"
   ]
  },
  {
   "cell_type": "code",
   "execution_count": 17,
   "metadata": {},
   "outputs": [],
   "source": [
    "cars = cars.drop(['carheight','compressionratio','peakrpm', 'wheelbase','stroke', 'citympg', 'highwaympg', 'boreratio'],1)"
   ]
  },
  {
   "cell_type": "code",
   "execution_count": 18,
   "metadata": {},
   "outputs": [],
   "source": [
    "## List of categorical variables in the data:\n",
    "# fueltype = gas ,diesel\n",
    "# aspiration = std, turbo\n",
    "# doornumber = two, four\n",
    "# carbody = convertible, hatchback, sedan, wagon, hardtop\n",
    "# drivewheel = rwd, fwd, 4wd\n",
    "# enginelocation = front, rear\n",
    "# enginetype = dohc, ohcv, ohc, l, rotor, ohcf, dohcv\n",
    "# cylindernumber = two, three, four, five, six, eight, twelve\n",
    "# fuelsystem = mpfi, 2bbl, mfi, 1bbl, spfi, 4bbl, idi, spdi\n",
    "# symboling = 3, 2, 1, 0, -1, -2\n",
    "# CarName = alfa-romero, audi, bmw, chevrolet, dodge, honda, isuzu, jaguar, mazda, buick, \n",
    "#           mercury, mitsubishi, nissan, peugeot, plymouth, porsche, renault, saab, subaru, toyota,\n",
    "#           volkswagen, volvo"
   ]
  },
  {
   "cell_type": "code",
   "execution_count": 19,
   "metadata": {},
   "outputs": [],
   "source": [
    "# Dropping variables not used in analysis\n",
    "cars.drop(['car_ID'],axis=1,inplace=True)"
   ]
  },
  {
   "cell_type": "code",
   "execution_count": 20,
   "metadata": {},
   "outputs": [
    {
     "data": {
      "text/plain": [
       "Index(['symboling', 'fueltype', 'aspiration', 'doornumber', 'carbody',\n",
       "       'drivewheel', 'enginelocation', 'carlength', 'carwidth', 'curbweight',\n",
       "       'enginetype', 'cylindernumber', 'enginesize', 'fuelsystem',\n",
       "       'horsepower', 'price', 'premium'],\n",
       "      dtype='object')"
      ]
     },
     "execution_count": 20,
     "metadata": {},
     "output_type": "execute_result"
    }
   ],
   "source": [
    "cars.columns"
   ]
  },
  {
   "cell_type": "code",
   "execution_count": 21,
   "metadata": {},
   "outputs": [],
   "source": [
    "# Address categorical variables\n",
    "\n",
    "cars['fueltype'] = cars['fueltype'].map({'gas': 1, 'diesel': 0})\n",
    "cars['aspiration'] = cars['aspiration'].map({'turbo': 0, 'std': 1})\n",
    "cars['doornumber'] = cars['doornumber'].map({'four': 1, 'two': 0})\n",
    "\n",
    "# Creating dummy variable for variable \"carbody\" and dropping the first one\n",
    "carbody_status = pd.get_dummies(cars['carbody'],drop_first=True)\n",
    "#Adding the results to the master dataframe\n",
    "cars = pd.concat([cars,carbody_status],axis=1)\n",
    "cars.drop(['carbody'],axis=1,inplace=True)\n",
    "\n",
    "# Creating dummy variable for variable \"drivewheel\" and dropping the first one\n",
    "drivewheel_status = pd.get_dummies(cars['drivewheel'],drop_first=True)\n",
    "#Adding the results to the master dataframe\n",
    "cars = pd.concat([cars,drivewheel_status],axis=1)\n",
    "cars.drop(['drivewheel'],axis=1,inplace=True)\n",
    "\n",
    "cars['enginelocation'] = cars['enginelocation'].map({'front': 1, 'rear': 0})\n",
    "\n",
    "# Creating dummy variable for variable \"enginetype\" and dropping the first one\n",
    "enginetype_status = pd.get_dummies(cars['enginetype'],drop_first=True)\n",
    "#Adding the results to the master dataframe\n",
    "cars = pd.concat([cars,enginetype_status],axis=1)\n",
    "cars.drop(['enginetype'],axis=1,inplace=True)\n",
    "\n",
    "# Creating dummy variable for variable \"cylindernumber\" and dropping the first one\n",
    "cylindernumber_status = pd.get_dummies(cars['cylindernumber'],drop_first=True)\n",
    "#Adding the results to the master dataframe\n",
    "cars = pd.concat([cars,cylindernumber_status],axis=1)\n",
    "cars.drop(['cylindernumber'],axis=1,inplace=True)\n",
    "\n",
    "# Creating dummy variable for variable \"fuelsystem\" and dropping the first one\n",
    "fuelsystem_status = pd.get_dummies(cars['fuelsystem'],drop_first=True)\n",
    "#Adding the results to the master dataframe\n",
    "cars = pd.concat([cars,fuelsystem_status],axis=1)\n",
    "cars.drop(['fuelsystem'],axis=1,inplace=True)\n",
    "\n",
    "# Creating dummy variable for variable \"symboling\" and dropping the first one\n",
    "#symboling_status = pd.get_dummies(cars['symboling'],drop_first=True)\n",
    "#Adding the results to the master dataframe\n",
    "#cars = pd.concat([cars,symboling_status],axis=1)\n",
    "cars.drop(['symboling'],axis=1,inplace=True)"
   ]
  },
  {
   "cell_type": "code",
   "execution_count": 22,
   "metadata": {},
   "outputs": [],
   "source": [
    "cars = cars.apply(lambda x: pd.to_numeric(x,errors='ignore'))"
   ]
  },
  {
   "cell_type": "code",
   "execution_count": 23,
   "metadata": {},
   "outputs": [],
   "source": [
    "# Putting feature variable to X\n",
    "X = cars.loc[:, cars.columns != 'price']\n",
    "\n",
    "# Putting response variable to y\n",
    "y = cars['price']"
   ]
  },
  {
   "cell_type": "code",
   "execution_count": 24,
   "metadata": {},
   "outputs": [
    {
     "name": "stderr",
     "output_type": "stream",
     "text": [
      "C:\\Users\\Harish\\Anaconda3\\lib\\site-packages\\sklearn\\cross_validation.py:41: DeprecationWarning: This module was deprecated in version 0.18 in favor of the model_selection module into which all the refactored classes and functions are moved. Also note that the interface of the new CV iterators are different from that of this module. This module will be removed in 0.20.\n",
      "  \"This module will be removed in 0.20.\", DeprecationWarning)\n"
     ]
    }
   ],
   "source": [
    "#random_state is the seed used by the random number generator, it can be any integer.\n",
    "from sklearn.cross_validation import train_test_split\n",
    "X_train, X_test, y_train, y_test = train_test_split(X, y, train_size=0.7 ,test_size = 0.3, random_state=100)"
   ]
  },
  {
   "cell_type": "code",
   "execution_count": 25,
   "metadata": {},
   "outputs": [],
   "source": [
    "#defining a normalisation function \n",
    "def normalize (x): \n",
    "    return ( (x-np.min(x))/ (max(x) - min(x)))"
   ]
  },
  {
   "cell_type": "code",
   "execution_count": 26,
   "metadata": {},
   "outputs": [],
   "source": [
    "# applying normalize ( ) to all columns \n",
    "X_train[['carlength', 'carwidth','curbweight', 'enginesize', 'horsepower']] = X_train[['carlength', 'carwidth','curbweight', 'enginesize', 'horsepower']].apply(normalize)"
   ]
  },
  {
   "cell_type": "code",
   "execution_count": 27,
   "metadata": {},
   "outputs": [
    {
     "name": "stdout",
     "output_type": "stream",
     "text": [
      "<class 'pandas.core.frame.DataFrame'>\n",
      "Int64Index: 143 entries, 122 to 8\n",
      "Data columns (total 35 columns):\n",
      "fueltype          143 non-null int64\n",
      "aspiration        143 non-null int64\n",
      "doornumber        143 non-null int64\n",
      "enginelocation    143 non-null int64\n",
      "carlength         143 non-null float64\n",
      "carwidth          143 non-null float64\n",
      "curbweight        143 non-null float64\n",
      "enginesize        143 non-null float64\n",
      "horsepower        143 non-null float64\n",
      "premium           143 non-null int64\n",
      "hardtop           143 non-null uint8\n",
      "hatchback         143 non-null uint8\n",
      "sedan             143 non-null uint8\n",
      "wagon             143 non-null uint8\n",
      "fwd               143 non-null uint8\n",
      "rwd               143 non-null uint8\n",
      "dohcv             143 non-null uint8\n",
      "l                 143 non-null uint8\n",
      "ohc               143 non-null uint8\n",
      "ohcf              143 non-null uint8\n",
      "ohcv              143 non-null uint8\n",
      "rotor             143 non-null uint8\n",
      "five              143 non-null uint8\n",
      "four              143 non-null uint8\n",
      "six               143 non-null uint8\n",
      "three             143 non-null uint8\n",
      "twelve            143 non-null uint8\n",
      "two               143 non-null uint8\n",
      "2bbl              143 non-null uint8\n",
      "4bbl              143 non-null uint8\n",
      "idi               143 non-null uint8\n",
      "mfi               143 non-null uint8\n",
      "mpfi              143 non-null uint8\n",
      "spdi              143 non-null uint8\n",
      "spfi              143 non-null uint8\n",
      "dtypes: float64(5), int64(5), uint8(25)\n",
      "memory usage: 15.8 KB\n"
     ]
    }
   ],
   "source": [
    "X_train.info()"
   ]
  },
  {
   "cell_type": "code",
   "execution_count": 28,
   "metadata": {},
   "outputs": [
    {
     "name": "stdout",
     "output_type": "stream",
     "text": [
      "[False False False  True False  True  True  True False  True False False\n",
      " False False False False  True False False False False False  True  True\n",
      "  True False  True False False False False False False False False]\n",
      "[ 7 24 22  1  8  1  1  1  2  1 15 14 17 16 18 19  1 12 10 11  3  6  1  1\n",
      "  1  5  1  4 20 21 13 25 23  9 26]\n"
     ]
    }
   ],
   "source": [
    "# Running RFE with the output number of the variable equal to 25\n",
    "lm = LinearRegression()\n",
    "rfe = RFE(lm, 10)             # running RFE\n",
    "rfe = rfe.fit(X_train, y_train)\n",
    "print(rfe.support_)           # Printing the boolean results\n",
    "print(rfe.ranking_)  "
   ]
  },
  {
   "cell_type": "code",
   "execution_count": 29,
   "metadata": {},
   "outputs": [],
   "source": [
    "col = X_train.columns[rfe.support_]"
   ]
  },
  {
   "cell_type": "code",
   "execution_count": 30,
   "metadata": {},
   "outputs": [],
   "source": [
    "# Creating X_test dataframe with RFE selected variables\n",
    "X_train_rfe = X_train[col]"
   ]
  },
  {
   "cell_type": "code",
   "execution_count": 31,
   "metadata": {},
   "outputs": [],
   "source": [
    "# Adding a constant variable \n",
    "import statsmodels.api as sm  \n",
    "X_train_rfe = sm.add_constant(X_train_rfe)"
   ]
  },
  {
   "cell_type": "code",
   "execution_count": 32,
   "metadata": {},
   "outputs": [],
   "source": [
    "#lm = sm.OLS(y_train,X_train_rfe).fit()   # Running the linear model"
   ]
  },
  {
   "cell_type": "code",
   "execution_count": 33,
   "metadata": {},
   "outputs": [],
   "source": [
    "# function for calculating vif value\n",
    "def vif_cal(input_data, dependent_col):\n",
    "    vif_df = pd.DataFrame( columns = ['Var', 'Vif'])\n",
    "    x_vars=input_data.drop([dependent_col], axis=1)\n",
    "    xvar_names=x_vars.columns\n",
    "    for i in range(0,xvar_names.shape[0]):\n",
    "        y=x_vars[xvar_names[i]] \n",
    "        x=x_vars[xvar_names.drop(xvar_names[i])]\n",
    "        rsq=sm.OLS(y,x).fit().rsquared  \n",
    "        vif=round(1/(1-rsq),2)\n",
    "        vif_df.loc[i] = [xvar_names[i], vif]\n",
    "    return vif_df.sort_values(by = 'Vif', axis=0, ascending=False, inplace=False)"
   ]
  },
  {
   "cell_type": "code",
   "execution_count": 34,
   "metadata": {},
   "outputs": [
    {
     "data": {
      "text/html": [
       "<div>\n",
       "<style scoped>\n",
       "    .dataframe tbody tr th:only-of-type {\n",
       "        vertical-align: middle;\n",
       "    }\n",
       "\n",
       "    .dataframe tbody tr th {\n",
       "        vertical-align: top;\n",
       "    }\n",
       "\n",
       "    .dataframe thead th {\n",
       "        text-align: right;\n",
       "    }\n",
       "</style>\n",
       "<table border=\"1\" class=\"dataframe\">\n",
       "  <thead>\n",
       "    <tr style=\"text-align: right;\">\n",
       "      <th></th>\n",
       "      <th>Var</th>\n",
       "      <th>Vif</th>\n",
       "    </tr>\n",
       "  </thead>\n",
       "  <tbody>\n",
       "    <tr>\n",
       "      <th>0</th>\n",
       "      <td>const</td>\n",
       "      <td>181.07</td>\n",
       "    </tr>\n",
       "    <tr>\n",
       "      <th>4</th>\n",
       "      <td>enginesize</td>\n",
       "      <td>8.19</td>\n",
       "    </tr>\n",
       "    <tr>\n",
       "      <th>3</th>\n",
       "      <td>curbweight</td>\n",
       "      <td>8.16</td>\n",
       "    </tr>\n",
       "    <tr>\n",
       "      <th>2</th>\n",
       "      <td>carwidth</td>\n",
       "      <td>5.70</td>\n",
       "    </tr>\n",
       "    <tr>\n",
       "      <th>8</th>\n",
       "      <td>four</td>\n",
       "      <td>4.44</td>\n",
       "    </tr>\n",
       "    <tr>\n",
       "      <th>9</th>\n",
       "      <td>six</td>\n",
       "      <td>4.44</td>\n",
       "    </tr>\n",
       "    <tr>\n",
       "      <th>7</th>\n",
       "      <td>five</td>\n",
       "      <td>2.44</td>\n",
       "    </tr>\n",
       "    <tr>\n",
       "      <th>5</th>\n",
       "      <td>premium</td>\n",
       "      <td>2.11</td>\n",
       "    </tr>\n",
       "    <tr>\n",
       "      <th>10</th>\n",
       "      <td>twelve</td>\n",
       "      <td>1.87</td>\n",
       "    </tr>\n",
       "    <tr>\n",
       "      <th>6</th>\n",
       "      <td>dohcv</td>\n",
       "      <td>1.30</td>\n",
       "    </tr>\n",
       "    <tr>\n",
       "      <th>1</th>\n",
       "      <td>enginelocation</td>\n",
       "      <td>1.12</td>\n",
       "    </tr>\n",
       "  </tbody>\n",
       "</table>\n",
       "</div>"
      ],
      "text/plain": [
       "               Var     Vif\n",
       "0            const  181.07\n",
       "4       enginesize    8.19\n",
       "3       curbweight    8.16\n",
       "2         carwidth    5.70\n",
       "8             four    4.44\n",
       "9              six    4.44\n",
       "7             five    2.44\n",
       "5          premium    2.11\n",
       "10          twelve    1.87\n",
       "6            dohcv    1.30\n",
       "1   enginelocation    1.12"
      ]
     },
     "execution_count": 34,
     "metadata": {},
     "output_type": "execute_result"
    }
   ],
   "source": [
    "# Calculating VIF value\n",
    "vif_cal(input_data = pd.concat([X_train_rfe, y_train], axis = 1), dependent_col = 'price')"
   ]
  },
  {
   "cell_type": "code",
   "execution_count": 34,
   "metadata": {},
   "outputs": [],
   "source": [
    "X_train_rfe = X_train_rfe.drop('two',1)"
   ]
  },
  {
   "cell_type": "code",
   "execution_count": 35,
   "metadata": {},
   "outputs": [
    {
     "data": {
      "text/html": [
       "<div>\n",
       "<style scoped>\n",
       "    .dataframe tbody tr th:only-of-type {\n",
       "        vertical-align: middle;\n",
       "    }\n",
       "\n",
       "    .dataframe tbody tr th {\n",
       "        vertical-align: top;\n",
       "    }\n",
       "\n",
       "    .dataframe thead th {\n",
       "        text-align: right;\n",
       "    }\n",
       "</style>\n",
       "<table border=\"1\" class=\"dataframe\">\n",
       "  <thead>\n",
       "    <tr style=\"text-align: right;\">\n",
       "      <th></th>\n",
       "      <th>Var</th>\n",
       "      <th>Vif</th>\n",
       "    </tr>\n",
       "  </thead>\n",
       "  <tbody>\n",
       "    <tr>\n",
       "      <th>0</th>\n",
       "      <td>const</td>\n",
       "      <td>246.83</td>\n",
       "    </tr>\n",
       "    <tr>\n",
       "      <th>7</th>\n",
       "      <td>four</td>\n",
       "      <td>19.79</td>\n",
       "    </tr>\n",
       "    <tr>\n",
       "      <th>8</th>\n",
       "      <td>six</td>\n",
       "      <td>8.83</td>\n",
       "    </tr>\n",
       "    <tr>\n",
       "      <th>6</th>\n",
       "      <td>five</td>\n",
       "      <td>5.99</td>\n",
       "    </tr>\n",
       "    <tr>\n",
       "      <th>5</th>\n",
       "      <td>rotor</td>\n",
       "      <td>3.80</td>\n",
       "    </tr>\n",
       "    <tr>\n",
       "      <th>4</th>\n",
       "      <td>ohcv</td>\n",
       "      <td>2.18</td>\n",
       "    </tr>\n",
       "    <tr>\n",
       "      <th>2</th>\n",
       "      <td>premium</td>\n",
       "      <td>1.98</td>\n",
       "    </tr>\n",
       "    <tr>\n",
       "      <th>9</th>\n",
       "      <td>three</td>\n",
       "      <td>1.72</td>\n",
       "    </tr>\n",
       "    <tr>\n",
       "      <th>3</th>\n",
       "      <td>dohcv</td>\n",
       "      <td>1.58</td>\n",
       "    </tr>\n",
       "    <tr>\n",
       "      <th>1</th>\n",
       "      <td>enginelocation</td>\n",
       "      <td>1.08</td>\n",
       "    </tr>\n",
       "  </tbody>\n",
       "</table>\n",
       "</div>"
      ],
      "text/plain": [
       "              Var     Vif\n",
       "0           const  246.83\n",
       "7            four   19.79\n",
       "8             six    8.83\n",
       "6            five    5.99\n",
       "5           rotor    3.80\n",
       "4            ohcv    2.18\n",
       "2         premium    1.98\n",
       "9           three    1.72\n",
       "3           dohcv    1.58\n",
       "1  enginelocation    1.08"
      ]
     },
     "execution_count": 35,
     "metadata": {},
     "output_type": "execute_result"
    }
   ],
   "source": [
    "vif_cal(input_data = pd.concat([X_train_rfe, y_train], axis = 1), dependent_col = 'price')"
   ]
  },
  {
   "cell_type": "code",
   "execution_count": 36,
   "metadata": {},
   "outputs": [],
   "source": [
    "X_train_rfe = X_train_rfe.drop('four',1)"
   ]
  },
  {
   "cell_type": "code",
   "execution_count": 37,
   "metadata": {},
   "outputs": [
    {
     "data": {
      "text/html": [
       "<div>\n",
       "<style scoped>\n",
       "    .dataframe tbody tr th:only-of-type {\n",
       "        vertical-align: middle;\n",
       "    }\n",
       "\n",
       "    .dataframe tbody tr th {\n",
       "        vertical-align: top;\n",
       "    }\n",
       "\n",
       "    .dataframe thead th {\n",
       "        text-align: right;\n",
       "    }\n",
       "</style>\n",
       "<table border=\"1\" class=\"dataframe\">\n",
       "  <thead>\n",
       "    <tr style=\"text-align: right;\">\n",
       "      <th></th>\n",
       "      <th>Var</th>\n",
       "      <th>Vif</th>\n",
       "    </tr>\n",
       "  </thead>\n",
       "  <tbody>\n",
       "    <tr>\n",
       "      <th>0</th>\n",
       "      <td>const</td>\n",
       "      <td>157.70</td>\n",
       "    </tr>\n",
       "    <tr>\n",
       "      <th>2</th>\n",
       "      <td>premium</td>\n",
       "      <td>1.62</td>\n",
       "    </tr>\n",
       "    <tr>\n",
       "      <th>7</th>\n",
       "      <td>six</td>\n",
       "      <td>1.46</td>\n",
       "    </tr>\n",
       "    <tr>\n",
       "      <th>6</th>\n",
       "      <td>five</td>\n",
       "      <td>1.37</td>\n",
       "    </tr>\n",
       "    <tr>\n",
       "      <th>4</th>\n",
       "      <td>ohcv</td>\n",
       "      <td>1.24</td>\n",
       "    </tr>\n",
       "    <tr>\n",
       "      <th>1</th>\n",
       "      <td>enginelocation</td>\n",
       "      <td>1.08</td>\n",
       "    </tr>\n",
       "    <tr>\n",
       "      <th>3</th>\n",
       "      <td>dohcv</td>\n",
       "      <td>1.06</td>\n",
       "    </tr>\n",
       "    <tr>\n",
       "      <th>5</th>\n",
       "      <td>rotor</td>\n",
       "      <td>1.01</td>\n",
       "    </tr>\n",
       "    <tr>\n",
       "      <th>8</th>\n",
       "      <td>three</td>\n",
       "      <td>1.00</td>\n",
       "    </tr>\n",
       "  </tbody>\n",
       "</table>\n",
       "</div>"
      ],
      "text/plain": [
       "              Var     Vif\n",
       "0           const  157.70\n",
       "2         premium    1.62\n",
       "7             six    1.46\n",
       "6            five    1.37\n",
       "4            ohcv    1.24\n",
       "1  enginelocation    1.08\n",
       "3           dohcv    1.06\n",
       "5           rotor    1.01\n",
       "8           three    1.00"
      ]
     },
     "execution_count": 37,
     "metadata": {},
     "output_type": "execute_result"
    }
   ],
   "source": [
    "vif_cal(input_data = pd.concat([X_train_rfe, y_train], axis = 1), dependent_col = 'price')"
   ]
  },
  {
   "cell_type": "code",
   "execution_count": 38,
   "metadata": {},
   "outputs": [],
   "source": [
    "## BUILDING MODEL USING SKLEARN"
   ]
  },
  {
   "cell_type": "code",
   "execution_count": 39,
   "metadata": {},
   "outputs": [
    {
     "data": {
      "text/plain": [
       "Index(['const', 'enginelocation', 'premium', 'dohcv', 'ohcv', 'rotor', 'five',\n",
       "       'six', 'three'],\n",
       "      dtype='object')"
      ]
     },
     "execution_count": 39,
     "metadata": {},
     "output_type": "execute_result"
    }
   ],
   "source": [
    "X_train_rfe.columns"
   ]
  },
  {
   "cell_type": "code",
   "execution_count": 40,
   "metadata": {},
   "outputs": [],
   "source": [
    "X_train_rfe = X_train_rfe.drop('const',1)"
   ]
  },
  {
   "cell_type": "code",
   "execution_count": 41,
   "metadata": {},
   "outputs": [],
   "source": [
    "# Running RFE with the output number of the variable equal to 25\n",
    "lm = LinearRegression()"
   ]
  },
  {
   "cell_type": "code",
   "execution_count": 42,
   "metadata": {},
   "outputs": [],
   "source": [
    "lm = sm.OLS(y_train,X_train_rfe).fit()   # Running the linear model"
   ]
  },
  {
   "cell_type": "code",
   "execution_count": 43,
   "metadata": {},
   "outputs": [
    {
     "name": "stdout",
     "output_type": "stream",
     "text": [
      "                            OLS Regression Results                            \n",
      "==============================================================================\n",
      "Dep. Variable:                  price   R-squared:                       0.913\n",
      "Model:                            OLS   Adj. R-squared:                  0.908\n",
      "Method:                 Least Squares   F-statistic:                     177.2\n",
      "Date:                Tue, 28 Aug 2018   Prob (F-statistic):           1.06e-67\n",
      "Time:                        22:10:43   Log-Likelihood:                -1405.2\n",
      "No. Observations:                 143   AIC:                             2826.\n",
      "Df Residuals:                     135   BIC:                             2850.\n",
      "Df Model:                           8                                         \n",
      "Covariance Type:            nonrobust                                         \n",
      "==================================================================================\n",
      "                     coef    std err          t      P>|t|      [0.025      0.975]\n",
      "----------------------------------------------------------------------------------\n",
      "enginelocation  9073.4076    455.803     19.906      0.000    8171.970    9974.845\n",
      "premium         1.243e+04   1179.324     10.543      0.000    1.01e+04    1.48e+04\n",
      "dohcv           9893.5976   4755.743      2.080      0.039     488.202    1.93e+04\n",
      "ohcv            3113.6516   1754.377      1.775      0.078    -355.967    6583.270\n",
      "rotor           3946.5924   2350.677      1.679      0.095    -702.324    8595.509\n",
      "five            1078.9489   1856.108      0.581      0.562   -2591.861    4749.758\n",
      "six             6228.3321   1345.690      4.628      0.000    3566.972    8889.692\n",
      "three          -3922.4076   4634.595     -0.846      0.399   -1.31e+04    5243.395\n",
      "==============================================================================\n",
      "Omnibus:                       17.453   Durbin-Watson:                   2.086\n",
      "Prob(Omnibus):                  0.000   Jarque-Bera (JB):               24.522\n",
      "Skew:                           0.673   Prob(JB):                     4.73e-06\n",
      "Kurtosis:                       4.518   Cond. No.                         12.9\n",
      "==============================================================================\n",
      "\n",
      "Warnings:\n",
      "[1] Standard Errors assume that the covariance matrix of the errors is correctly specified.\n"
     ]
    }
   ],
   "source": [
    "#Let's see the summary of our linear model\n",
    "print(lm.summary())"
   ]
  },
  {
   "cell_type": "code",
   "execution_count": 44,
   "metadata": {},
   "outputs": [],
   "source": [
    "X_train_rfe = X_train_rfe.drop('five',1)"
   ]
  },
  {
   "cell_type": "code",
   "execution_count": 45,
   "metadata": {},
   "outputs": [],
   "source": [
    "lm = sm.OLS(y_train,X_train_rfe).fit()   # Running the linear model"
   ]
  },
  {
   "cell_type": "code",
   "execution_count": 46,
   "metadata": {},
   "outputs": [
    {
     "name": "stdout",
     "output_type": "stream",
     "text": [
      "                            OLS Regression Results                            \n",
      "==============================================================================\n",
      "Dep. Variable:                  price   R-squared:                       0.913\n",
      "Model:                            OLS   Adj. R-squared:                  0.908\n",
      "Method:                 Least Squares   F-statistic:                     203.5\n",
      "Date:                Tue, 28 Aug 2018   Prob (F-statistic):           8.50e-69\n",
      "Time:                        22:11:03   Log-Likelihood:                -1405.4\n",
      "No. Observations:                 143   AIC:                             2825.\n",
      "Df Residuals:                     136   BIC:                             2846.\n",
      "Df Model:                           7                                         \n",
      "Covariance Type:            nonrobust                                         \n",
      "==================================================================================\n",
      "                     coef    std err          t      P>|t|      [0.025      0.975]\n",
      "----------------------------------------------------------------------------------\n",
      "enginelocation  9103.2316    451.802     20.149      0.000    8209.765    9996.698\n",
      "premium         1.278e+04   1014.074     12.604      0.000    1.08e+04    1.48e+04\n",
      "dohcv           9516.2436   4699.747      2.025      0.045     222.207    1.88e+04\n",
      "ohcv            3025.0792   1743.488      1.735      0.085    -422.775    6472.934\n",
      "rotor           3916.7684   2344.390      1.671      0.097    -719.405    8552.942\n",
      "six             6026.8465   1297.115      4.646      0.000    3461.722    8591.971\n",
      "three          -3952.2316   4623.016     -0.855      0.394   -1.31e+04    5190.064\n",
      "==============================================================================\n",
      "Omnibus:                       16.050   Durbin-Watson:                   2.079\n",
      "Prob(Omnibus):                  0.000   Jarque-Bera (JB):               21.982\n",
      "Skew:                           0.635   Prob(JB):                     1.68e-05\n",
      "Kurtosis:                       4.442   Cond. No.                         12.7\n",
      "==============================================================================\n",
      "\n",
      "Warnings:\n",
      "[1] Standard Errors assume that the covariance matrix of the errors is correctly specified.\n"
     ]
    }
   ],
   "source": [
    "#Let's see the summary of our linear model\n",
    "print(lm.summary())"
   ]
  },
  {
   "cell_type": "code",
   "execution_count": 47,
   "metadata": {},
   "outputs": [],
   "source": [
    "X_train_rfe = X_train_rfe.drop('rotor',1)"
   ]
  },
  {
   "cell_type": "code",
   "execution_count": 48,
   "metadata": {},
   "outputs": [],
   "source": [
    "lm = sm.OLS(y_train,X_train_rfe).fit()   # Running the linear model"
   ]
  },
  {
   "cell_type": "code",
   "execution_count": 49,
   "metadata": {},
   "outputs": [
    {
     "name": "stdout",
     "output_type": "stream",
     "text": [
      "                            OLS Regression Results                            \n",
      "==============================================================================\n",
      "Dep. Variable:                  price   R-squared:                       0.911\n",
      "Model:                            OLS   Adj. R-squared:                  0.907\n",
      "Method:                 Least Squares   F-statistic:                     233.9\n",
      "Date:                Tue, 28 Aug 2018   Prob (F-statistic):           2.11e-69\n",
      "Time:                        22:11:21   Log-Likelihood:                -1406.8\n",
      "No. Observations:                 143   AIC:                             2826.\n",
      "Df Residuals:                     137   BIC:                             2843.\n",
      "Df Model:                           6                                         \n",
      "Covariance Type:            nonrobust                                         \n",
      "==================================================================================\n",
      "                     coef    std err          t      P>|t|      [0.025      0.975]\n",
      "----------------------------------------------------------------------------------\n",
      "enginelocation  9248.6987    446.222     20.727      0.000    8366.326    1.01e+04\n",
      "premium         1.267e+04   1018.468     12.440      0.000    1.07e+04    1.47e+04\n",
      "dohcv           9482.3044   4730.327      2.005      0.047     128.407    1.88e+04\n",
      "ohcv            2981.1524   1754.650      1.699      0.092    -488.547    6450.851\n",
      "six             5967.4760   1305.077      4.573      0.000    3386.775    8548.176\n",
      "three          -4097.6987   4652.315     -0.881      0.380   -1.33e+04    5101.934\n",
      "==============================================================================\n",
      "Omnibus:                       14.817   Durbin-Watson:                   2.065\n",
      "Prob(Omnibus):                  0.001   Jarque-Bera (JB):               19.041\n",
      "Skew:                           0.620   Prob(JB):                     7.33e-05\n",
      "Kurtosis:                       4.287   Cond. No.                         12.7\n",
      "==============================================================================\n",
      "\n",
      "Warnings:\n",
      "[1] Standard Errors assume that the covariance matrix of the errors is correctly specified.\n"
     ]
    }
   ],
   "source": [
    "#Let's see the summary of our linear model\n",
    "print(lm.summary())"
   ]
  },
  {
   "cell_type": "code",
   "execution_count": 87,
   "metadata": {},
   "outputs": [],
   "source": [
    "X_train_rfe = X_train_rfe.drop('enginelocation',1)"
   ]
  },
  {
   "cell_type": "code",
   "execution_count": 88,
   "metadata": {},
   "outputs": [],
   "source": [
    "lm = sm.OLS(y_train,X_train_rfe).fit()   # Running the linear model"
   ]
  },
  {
   "cell_type": "code",
   "execution_count": 89,
   "metadata": {},
   "outputs": [
    {
     "name": "stdout",
     "output_type": "stream",
     "text": [
      "                            OLS Regression Results                            \n",
      "==============================================================================\n",
      "Dep. Variable:                  price   R-squared:                       0.947\n",
      "Model:                            OLS   Adj. R-squared:                  0.945\n",
      "Method:                 Least Squares   F-statistic:                     617.3\n",
      "Date:                Tue, 28 Aug 2018   Prob (F-statistic):           2.12e-87\n",
      "Time:                        21:58:30   Log-Likelihood:                -1370.2\n",
      "No. Observations:                 143   AIC:                             2748.\n",
      "Df Residuals:                     139   BIC:                             2760.\n",
      "Df Model:                           4                                         \n",
      "Covariance Type:            nonrobust                                         \n",
      "==============================================================================\n",
      "                 coef    std err          t      P>|t|      [0.025      0.975]\n",
      "------------------------------------------------------------------------------\n",
      "carwidth    2.162e+04   1854.860     11.657      0.000     1.8e+04    2.53e+04\n",
      "stroke      2016.0347   1453.687      1.387      0.168    -858.162    4890.231\n",
      "premium     8867.9280    875.313     10.131      0.000    7137.279    1.06e+04\n",
      "twelve      7992.3842   3692.894      2.164      0.032     690.877    1.53e+04\n",
      "==============================================================================\n",
      "Omnibus:                       56.518   Durbin-Watson:                   1.877\n",
      "Prob(Omnibus):                  0.000   Jarque-Bera (JB):              321.082\n",
      "Skew:                           1.252   Prob(JB):                     1.90e-70\n",
      "Kurtosis:                       9.901   Cond. No.                         9.88\n",
      "==============================================================================\n",
      "\n",
      "Warnings:\n",
      "[1] Standard Errors assume that the covariance matrix of the errors is correctly specified.\n"
     ]
    }
   ],
   "source": [
    "#Let's see the summary of our linear model\n",
    "print(lm.summary())"
   ]
  },
  {
   "cell_type": "code",
   "execution_count": 90,
   "metadata": {},
   "outputs": [],
   "source": [
    "X_train_rfe = X_train_rfe.drop('stroke',1)"
   ]
  },
  {
   "cell_type": "code",
   "execution_count": 92,
   "metadata": {},
   "outputs": [
    {
     "name": "stdout",
     "output_type": "stream",
     "text": [
      "                            OLS Regression Results                            \n",
      "==============================================================================\n",
      "Dep. Variable:                  price   R-squared:                       0.946\n",
      "Model:                            OLS   Adj. R-squared:                  0.945\n",
      "Method:                 Least Squares   F-statistic:                     817.1\n",
      "Date:                Tue, 28 Aug 2018   Prob (F-statistic):           1.77e-88\n",
      "Time:                        21:59:42   Log-Likelihood:                -1371.2\n",
      "No. Observations:                 143   AIC:                             2748.\n",
      "Df Residuals:                     140   BIC:                             2757.\n",
      "Df Model:                           3                                         \n",
      "Covariance Type:            nonrobust                                         \n",
      "==============================================================================\n",
      "                 coef    std err          t      P>|t|      [0.025      0.975]\n",
      "------------------------------------------------------------------------------\n",
      "carwidth    2.397e+04    766.373     31.273      0.000    2.25e+04    2.55e+04\n",
      "premium     8443.3690    822.733     10.263      0.000    6816.781    1.01e+04\n",
      "twelve      6985.2597   3632.707      1.923      0.057    -196.798    1.42e+04\n",
      "==============================================================================\n",
      "Omnibus:                       54.759   Durbin-Watson:                   1.888\n",
      "Prob(Omnibus):                  0.000   Jarque-Bera (JB):              330.340\n",
      "Skew:                           1.178   Prob(JB):                     1.85e-72\n",
      "Kurtosis:                      10.063   Cond. No.                         7.47\n",
      "==============================================================================\n",
      "\n",
      "Warnings:\n",
      "[1] Standard Errors assume that the covariance matrix of the errors is correctly specified.\n"
     ]
    }
   ],
   "source": [
    "lm = sm.OLS(y_train,X_train_rfe).fit()   # Running the linear model\n",
    "\n",
    "#Let's see the summary of our linear model\n",
    "print(lm.summary())"
   ]
  },
  {
   "cell_type": "code",
   "execution_count": 93,
   "metadata": {},
   "outputs": [],
   "source": [
    "X_train_rfe = X_train_rfe.drop('twelve',1)"
   ]
  },
  {
   "cell_type": "code",
   "execution_count": 94,
   "metadata": {},
   "outputs": [
    {
     "name": "stdout",
     "output_type": "stream",
     "text": [
      "                            OLS Regression Results                            \n",
      "==============================================================================\n",
      "Dep. Variable:                  price   R-squared:                       0.945\n",
      "Model:                            OLS   Adj. R-squared:                  0.944\n",
      "Method:                 Least Squares   F-statistic:                     1201.\n",
      "Date:                Tue, 28 Aug 2018   Prob (F-statistic):           2.80e-89\n",
      "Time:                        22:01:23   Log-Likelihood:                -1373.1\n",
      "No. Observations:                 143   AIC:                             2750.\n",
      "Df Residuals:                     141   BIC:                             2756.\n",
      "Df Model:                           2                                         \n",
      "Covariance Type:            nonrobust                                         \n",
      "==============================================================================\n",
      "                 coef    std err          t      P>|t|      [0.025      0.975]\n",
      "------------------------------------------------------------------------------\n",
      "carwidth    2.403e+04    772.956     31.088      0.000    2.25e+04    2.56e+04\n",
      "premium     8626.8805    824.959     10.457      0.000    6995.993    1.03e+04\n",
      "==============================================================================\n",
      "Omnibus:                       49.123   Durbin-Watson:                   1.891\n",
      "Prob(Omnibus):                  0.000   Jarque-Bera (JB):              272.250\n",
      "Skew:                           1.055   Prob(JB):                     7.61e-60\n",
      "Kurtosis:                       9.422   Cond. No.                         2.07\n",
      "==============================================================================\n",
      "\n",
      "Warnings:\n",
      "[1] Standard Errors assume that the covariance matrix of the errors is correctly specified.\n"
     ]
    }
   ],
   "source": [
    "lm = sm.OLS(y_train,X_train_rfe).fit()   # Running the linear model\n",
    "\n",
    "#Let's see the summary of our linear model\n",
    "print(lm.summary())"
   ]
  },
  {
   "cell_type": "code",
   "execution_count": 60,
   "metadata": {},
   "outputs": [],
   "source": [
    "X_test = X_test[X_train_rfe.columns]"
   ]
  },
  {
   "cell_type": "code",
   "execution_count": 61,
   "metadata": {},
   "outputs": [],
   "source": [
    "y_predicted = lm.predict(X_test)"
   ]
  },
  {
   "cell_type": "code",
   "execution_count": 62,
   "metadata": {},
   "outputs": [],
   "source": [
    "r2 = r2_score(y_test, y_predicted)"
   ]
  },
  {
   "cell_type": "code",
   "execution_count": 63,
   "metadata": {},
   "outputs": [
    {
     "data": {
      "text/plain": [
       "-65666.76631079693"
      ]
     },
     "execution_count": 63,
     "metadata": {},
     "output_type": "execute_result"
    }
   ],
   "source": [
    "r2"
   ]
  },
  {
   "cell_type": "code",
   "execution_count": null,
   "metadata": {},
   "outputs": [],
   "source": []
  }
 ],
 "metadata": {
  "kernelspec": {
   "display_name": "Python 3",
   "language": "python",
   "name": "python3"
  },
  "language_info": {
   "codemirror_mode": {
    "name": "ipython",
    "version": 3
   },
   "file_extension": ".py",
   "mimetype": "text/x-python",
   "name": "python",
   "nbconvert_exporter": "python",
   "pygments_lexer": "ipython3",
   "version": "3.6.5"
  }
 },
 "nbformat": 4,
 "nbformat_minor": 2
}
